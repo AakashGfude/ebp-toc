{
 "cells": [
  {
   "cell_type": "markdown",
   "metadata": {},
   "source": [
    "Lorem ipsum dolor sit amet, consectetur adipiscing elit. Morbi efficitur id augue sed consectetur. Donec at nulla dapibus, pellentesque quam non, rutrum turpis. Aliquam vitae pharetra nulla, a auctor velit. Duis lobortis eros diam, ac pretium velit pretium at. Cras convallis ornare lorem, a laoreet mauris tincidunt quis. Phasellus luctus eget lorem quis elementum. Fusce hendrerit congue metus, sed hendrerit dolor vulputate in. Vivamus vestibulum libero lacus, ultrices tempor risus ullamcorper vitae."
   ]
  }
 ],
 "metadata": {
  "kernelspec": {
   "display_name": "Python 3",
   "language": "python",
   "name": "python3"
  },
  "language_info": {
   "codemirror_mode": {
    "name": "ipython",
    "version": 3
   },
   "file_extension": ".py",
   "mimetype": "text/x-python",
   "name": "python",
   "nbconvert_exporter": "python",
   "pygments_lexer": "ipython3",
   "version": "3.7.3"
  },
  "widgets": {
   "application/vnd.jupyter.widget-state+json": {
    "state": {},
    "version_major": 2,
    "version_minor": 0
   }
  }
 },
 "nbformat": 4,
 "nbformat_minor": 4
}
